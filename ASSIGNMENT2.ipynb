{
 "cells": [
  {
   "cell_type": "markdown",
   "id": "71b80055-454f-4f84-ada8-f421f8f0b14b",
   "metadata": {},
   "source": [
    "## BASIC STATISTICS2"
   ]
  },
  {
   "cell_type": "markdown",
   "id": "2d16eab1-11d7-4e08-a115-a3e5f2122cba",
   "metadata": {},
   "source": [
    "## Estimation And Confidence Intervals"
   ]
  },
  {
   "cell_type": "markdown",
   "id": "c2985a86-ad3b-4709-993a-f687d8cfa6af",
   "metadata": {},
   "source": [
    " ## A total of 15 print-heads were randomly selected and tested until failure. The durability of each print-head (in millions of characters) was recorded as follows:"
   ]
  },
  {
   "cell_type": "code",
   "execution_count": 1,
   "id": "d4385328-7b15-44aa-a945-c711f65fced5",
   "metadata": {},
   "outputs": [],
   "source": [
    "import pandas as pd\n",
    "from scipy import stats\n",
    "data=[1.14, 1.56, 1.44, 0.93, 1.26, 1.37, 1.33, 0.86, 1.08, 1.49, 1.21, 1.34, 1.19, 1.23, 1.30]"
   ]
  },
  {
   "cell_type": "markdown",
   "id": "83efa590-6dea-47a2-8e15-fc29c545e282",
   "metadata": {},
   "source": [
    "## task1"
   ]
  },
  {
   "cell_type": "markdown",
   "id": "2fc04ae4-bd15-48ca-9adc-91a5c926ccc0",
   "metadata": {},
   "source": [
    "a. Build 99% Confidence Interval Using Sample Standard Deviation\n",
    "Assuming the sample is representative of the population, construct a 99% confidence interval for the mean number of characters printed before the print-head fails using the sample standard deviation. Explain the steps you take and the rationale behind using the t-distribution for this task."
   ]
  },
  {
   "cell_type": "code",
   "execution_count": 3,
   "id": "a3d624f5-539f-4684-93fc-fabafe4283d7",
   "metadata": {},
   "outputs": [
    {
     "name": "stdout",
     "output_type": "stream",
     "text": [
      "avrage height of the given data is: 1.25\n"
     ]
    }
   ],
   "source": [
    "data_ser=pd.Series(data)\n",
    "avg_data=sum(data)/len(data)\n",
    "print('avrage height of the given data is:',round(avg_data,2))"
   ]
  },
  {
   "cell_type": "code",
   "execution_count": 4,
   "id": "bcb181c1-bd66-4813-8d52-9dc07c7206d7",
   "metadata": {},
   "outputs": [
    {
     "data": {
      "text/plain": [
       "1.2486666666666666"
      ]
     },
     "execution_count": 4,
     "metadata": {},
     "output_type": "execute_result"
    }
   ],
   "source": [
    "confidence_level=0.99\n",
    "mean=sum(data)/len(data)\n",
    "mean"
   ]
  },
  {
   "cell_type": "code",
   "execution_count": 5,
   "id": "65c0b9ae-a3a1-4a1e-ae79-11545d134fcf",
   "metadata": {},
   "outputs": [
    {
     "name": "stdout",
     "output_type": "stream",
     "text": [
      "0.03731238095238095\n",
      "0.1931641295695993\n"
     ]
    }
   ],
   "source": [
    "variance = sum((x - mean) ** 2 for x in data) / (len(data) - 1)\n",
    "std_dev = variance ** 0.5\n",
    "print(variance)\n",
    "print(std_dev)"
   ]
  },
  {
   "cell_type": "code",
   "execution_count": 6,
   "id": "f769c40d-0920-404f-84a1-ee286ebaef5f",
   "metadata": {},
   "outputs": [
    {
     "data": {
      "text/plain": [
       "2.976842734370834"
      ]
     },
     "execution_count": 6,
     "metadata": {},
     "output_type": "execute_result"
    }
   ],
   "source": [
    "alpha=1-confidence_level\n",
    "n=len(data)\n",
    "df=n-1\n",
    "t_critical = stats.t.ppf(1 - alpha/2, df)\n",
    "t_critical"
   ]
  },
  {
   "cell_type": "code",
   "execution_count": 7,
   "id": "30973f44-c87a-4698-be00-8e2cfb75656a",
   "metadata": {},
   "outputs": [
    {
     "data": {
      "text/plain": [
       "0.1484693282281759"
      ]
     },
     "execution_count": 7,
     "metadata": {},
     "output_type": "execute_result"
    }
   ],
   "source": [
    "margin_of_error = t_critical * (std_dev / (len(data) ** 0.5))\n",
    "margin_of_error"
   ]
  },
  {
   "cell_type": "code",
   "execution_count": 9,
   "id": "65693fe5-8c24-4629-9175-d926db9f3379",
   "metadata": {},
   "outputs": [
    {
     "name": "stdout",
     "output_type": "stream",
     "text": [
      "(1.1001973384384907, 1.3971359948948425)\n"
     ]
    }
   ],
   "source": [
    "confidence_interval = (mean - margin_of_error, mean + margin_of_error)\n",
    "print(confidence_interval)"
   ]
  },
  {
   "cell_type": "markdown",
   "id": "a0196a1b-81e8-4e68-8ecb-f1b8765e6b8a",
   "metadata": {},
   "source": [
    "## b. Build 99% Confidence Interval Using Known Population Standard Deviation\n",
    "If it were known that the population standard deviation is 0.2 million characters, construct a 99% confidence interval for the mean number of characters printed before failure."
   ]
  },
  {
   "cell_type": "code",
   "execution_count": 12,
   "id": "d9052825-3e5f-4711-aca3-bb21674c44f4",
   "metadata": {},
   "outputs": [
    {
     "name": "stdout",
     "output_type": "stream",
     "text": [
      "    Characters\n",
      "0         1.14\n",
      "1         1.56\n",
      "2         1.44\n",
      "3         0.93\n",
      "4         1.26\n",
      "5         1.37\n",
      "6         1.33\n",
      "7         0.86\n",
      "8         1.08\n",
      "9         1.49\n",
      "10        1.21\n",
      "11        1.34\n",
      "12        1.19\n",
      "13        1.23\n",
      "14        1.30\n",
      "1.248666666666667\n"
     ]
    }
   ],
   "source": [
    "import pandas as pd\n",
    "from scipy import stats\n",
    "\n",
    "# Provided data\n",
    "data=[1.14, 1.56, 1.44, 0.93, 1.26, 1.37, 1.33, 0.86, 1.08, 1.49, 1.21, 1.34, 1.19, 1.23, 1.30]\n",
    "\n",
    "# Convert data into a pandas DataFrame for easier manipulation\n",
    "df = pd.DataFrame(data, columns=[\"Characters\"])\n",
    "\n",
    "# Calculate the sample mean and sample size\n",
    "sample_mean = df[\"Characters\"].mean()\n",
    "sample_size = len(df)\n",
    "print(df)\n",
    "print(sample_mean)"
   ]
  },
  {
   "cell_type": "code",
   "execution_count": null,
   "id": "3d0150ac-cec4-4ff6-99a3-b3957e1db3d4",
   "metadata": {},
   "outputs": [],
   "source": []
  }
 ],
 "metadata": {
  "kernelspec": {
   "display_name": "Python 3 (ipykernel)",
   "language": "python",
   "name": "python3"
  },
  "language_info": {
   "codemirror_mode": {
    "name": "ipython",
    "version": 3
   },
   "file_extension": ".py",
   "mimetype": "text/x-python",
   "name": "python",
   "nbconvert_exporter": "python",
   "pygments_lexer": "ipython3",
   "version": "3.12.4"
  }
 },
 "nbformat": 4,
 "nbformat_minor": 5
}
